{
 "cells": [
  {
   "cell_type": "code",
   "execution_count": 1,
   "id": "3c9a39c7",
   "metadata": {},
   "outputs": [],
   "source": [
    "from functools import partial\n",
    "import os\n",
    "import torch\n",
    "import torch.nn as nn\n",
    "import torch.nn.functional as F\n",
    "import torch.optim as optim\n",
    "from torch.utils.data import DataLoader, TensorDataset\n",
    "from torch.utils.data import random_split\n",
    "import torchvision\n",
    "import cellpylib as cpl\n",
    "import numpy as np\n",
    "import matplotlib.pyplot as plt"
   ]
  },
  {
   "cell_type": "code",
   "execution_count": 2,
   "id": "243af44d",
   "metadata": {},
   "outputs": [
    {
     "name": "stdout",
     "output_type": "stream",
     "text": [
      "Using cuda device\n"
     ]
    }
   ],
   "source": [
    "device = (\n",
    "    \"cuda\"\n",
    "    if torch.cuda.is_available()\n",
    "    else \"mps\"\n",
    "    if torch.backends.mps.is_available()\n",
    "    else \"cpu\"\n",
    ")\n",
    "print(f\"Using {device} device\")"
   ]
  },
  {
   "cell_type": "markdown",
   "id": "994c852e",
   "metadata": {},
   "source": [
    "## Data Generation"
   ]
  },
  {
   "cell_type": "code",
   "execution_count": 27,
   "id": "8258ef84",
   "metadata": {},
   "outputs": [],
   "source": [
    "def generate_pairs_1D_rand(num_samples, rule_number, ca_size):\n",
    "    \n",
    "    # Initialize dataset array\n",
    "    input_data = torch.zeros((num_samples, 1, ca_size + 6))  \n",
    "    output_data = torch.zeros((num_samples, 1, ca_size + 6))\n",
    "\n",
    "    for t in range(num_samples):\n",
    "        \n",
    "        # create a random initial ca state\n",
    "        ic = cpl.init_random(ca_size)[0]\n",
    "        ca = np.array([np.concatenate((np.zeros(3), ic, np.zeros(3)))])\n",
    "        \n",
    "        # convert the ca state from 0s and 1s to -1s and 1s\n",
    "        converted_ca = torch.where(torch.tensor(ca) == 0, -1, torch.tensor(ca))\n",
    "        input_data[t][0] = converted_ca\n",
    "        \n",
    "        # evolve state for 1 time step based on update rule\n",
    "        ca = cpl.evolve(ca, timesteps=2, apply_rule=lambda n, c, t: cpl.nks_rule(n, rule_number), memoize=True)\n",
    "        \n",
    "        # we want output data to be of 0s and 1s, because when we apply ReLu, negatives vanish\n",
    "        output_data[t][0] = torch.tensor(ca[1])\n",
    "\n",
    "    return input_data, output_data"
   ]
  },
  {
   "cell_type": "code",
   "execution_count": 5,
   "id": "97bb428f",
   "metadata": {},
   "outputs": [],
   "source": [
    "def generate_all_states_1D(rule_number, ca_size):\n",
    "        \n",
    "        \n",
    "    # create all possible configurations of 0s and 1s\n",
    "    def generate_all_possible_binary_images(ca_size):\n",
    "        if ca_size <= 0:\n",
    "            return [[]]\n",
    "\n",
    "        def backtrack(start, path, result):\n",
    "            if len(path) == ca_size:\n",
    "                result.append([path[:]])\n",
    "                return\n",
    "\n",
    "            for i in range(start, 2):\n",
    "                path.append(i)\n",
    "                backtrack(0, path, result)\n",
    "                path.pop()\n",
    "\n",
    "        result = []\n",
    "        backtrack(0, [], result)        \n",
    "        return result\n",
    "\n",
    "    \n",
    "    all_binary_images = generate_all_possible_binary_images(ca_size)\n",
    "    input_data_np = np.array(all_binary_images)\n",
    "    \n",
    "    # randomize the order of the data\n",
    "    np.random.shuffle(input_data_np)\n",
    "    \n",
    "    # evolve the data and set it as output data\n",
    "    output_data_np = np.zeros((2**ca_size, 1, ca_size))\n",
    "    for t in range(len(input_data_np)):\n",
    "        state = np.array(input_data_np[t])\n",
    "        state = cpl.evolve(state, timesteps=2, apply_rule=lambda n, c, t: cpl.nks_rule(n, rule_number), memoize=True)\n",
    "        output_data_np[t][0] = state[1]\n",
    "    \n",
    "    \n",
    "    #convert data from numpy arrays to pytorch tensors\n",
    "    input_data = torch.from_numpy(input_data_np).to(torch.float32)\n",
    "    output_data = torch.from_numpy(output_data_np).to(torch.float32)\n",
    "\n",
    "    \n",
    "    \n",
    "    # convert the 0s from input data to -1s   \n",
    "    input_data = torch.where(input_data == 0, -1, input_data)\n",
    "    \n",
    "    \n",
    "    return input_data, output_data \n"
   ]
  },
  {
   "cell_type": "code",
   "execution_count": 39,
   "id": "000e09f2",
   "metadata": {},
   "outputs": [],
   "source": [
    "x_data, y_data = generate_pairs_1D_rand(num_samples=5000, rule_number=225, ca_size=150)"
   ]
  },
  {
   "cell_type": "code",
   "execution_count": 40,
   "id": "06b42879",
   "metadata": {},
   "outputs": [],
   "source": [
    "torch.save(x_data, 'C:\\\\Users\\\\windows\\\\Research\\\\CA_Project\\\\datasets\\\\1d_225_padded_casize150_input_data.pt')\n",
    "torch.save(y_data, 'C:\\\\Users\\\\windows\\\\Research\\\\CA_Project\\\\datasets\\\\1d_225_padded_casize150_output_data.pt')"
   ]
  },
  {
   "cell_type": "code",
   "execution_count": 41,
   "id": "b42f2b9e",
   "metadata": {},
   "outputs": [
    {
     "name": "stdout",
     "output_type": "stream",
     "text": [
      "x_data torch.Size([5000, 1, 156])\n",
      "y_data torch.Size([5000, 1, 156])\n"
     ]
    }
   ],
   "source": [
    "x_data = torch.load('C:\\\\Users\\\\windows\\\\Research\\\\CA_Project\\\\datasets\\\\1d_225_padded_casize150_input_data.pt')\n",
    "y_data = torch.load('C:\\\\Users\\\\windows\\\\Research\\\\CA_Project\\\\datasets\\\\1d_225_padded_casize150_output_data.pt')\n",
    "\n",
    "print(\"x_data\", x_data.size())\n",
    "print(\"y_data\", y_data.size())"
   ]
  },
  {
   "cell_type": "markdown",
   "id": "7aee88f0",
   "metadata": {},
   "source": [
    "## Split Data Into Training Set and Test Set"
   ]
  },
  {
   "cell_type": "code",
   "execution_count": 42,
   "id": "a424b2f3",
   "metadata": {},
   "outputs": [
    {
     "name": "stdout",
     "output_type": "stream",
     "text": [
      "4000\n"
     ]
    }
   ],
   "source": [
    "split = int(0.80 * len(x_data))\n",
    "print(split)\n",
    "x_train = x_data[:split]\n",
    "y_train = y_data[:split]\n",
    "x_test = x_data[split:]\n",
    "y_test = y_data[split:]"
   ]
  },
  {
   "cell_type": "code",
   "execution_count": 43,
   "id": "07512ce2",
   "metadata": {},
   "outputs": [],
   "source": [
    "batch_size = 8\n",
    "\n",
    "train_dataset = TensorDataset(x_train, y_train)\n",
    "train_loader = DataLoader(train_dataset, batch_size=batch_size, shuffle=True)\n",
    "\n",
    "test_dataset = TensorDataset(x_test, y_test)\n",
    "test_loader = DataLoader(test_dataset, batch_size=batch_size, shuffle=True)"
   ]
  },
  {
   "cell_type": "markdown",
   "id": "6cbf427f",
   "metadata": {},
   "source": [
    "## Build Neural Network"
   ]
  },
  {
   "cell_type": "code",
   "execution_count": 52,
   "id": "e7570c5f",
   "metadata": {},
   "outputs": [],
   "source": [
    "class ConvNet(nn.Module):\n",
    "    def __init__(self):\n",
    "        super().__init__()\n",
    "        self.conv1 = nn.Conv1d(in_channels=1, out_channels=10, kernel_size=3, padding=1)\n",
    "        self.conv2 = nn.Conv1d(in_channels=10, out_channels=5, kernel_size=1)\n",
    "        self.conv3 = nn.Conv1d(in_channels=5, out_channels=10, kernel_size=1)\n",
    "        self.conv_final = nn.Conv1d(in_channels=5, out_channels=1, kernel_size=1)\n",
    "        \n",
    "    def forward(self, x):\n",
    "        x = F.relu(self.conv1(x))\n",
    "        x = F.relu(self.conv2(x))\n",
    "        x = F.relu(self.conv3(x))\n",
    "        x = F.relu(self.conv2(x))\n",
    "        x = F.relu(self.conv3(x))\n",
    "        x = F.relu(self.conv2(x))\n",
    "        x = torch.sigmoid(self.conv_final(x))\n",
    "        return x\n",
    "        \n",
    "        # if I want to convert to binary numbers, then I can just do torch.round()\n",
    "        # However, I should note that doing that here will destroy the gradient\n",
    "        "
   ]
  },
  {
   "cell_type": "code",
   "execution_count": 53,
   "id": "8892c0ee",
   "metadata": {},
   "outputs": [
    {
     "name": "stdout",
     "output_type": "stream",
     "text": [
      "ConvNet(\n",
      "  (conv1): Conv1d(1, 10, kernel_size=(3,), stride=(1,), padding=(1,))\n",
      "  (conv2): Conv1d(10, 5, kernel_size=(1,), stride=(1,))\n",
      "  (conv3): Conv1d(5, 10, kernel_size=(1,), stride=(1,))\n",
      "  (conv_final): Conv1d(5, 1, kernel_size=(1,), stride=(1,))\n",
      ")\n"
     ]
    }
   ],
   "source": [
    "model = ConvNet().to(device)\n",
    "optimizer = optim.Adam(model.parameters(), lr=1e-3)\n",
    "loss_fn = nn.BCELoss()\n",
    "\n",
    "print(model)"
   ]
  },
  {
   "cell_type": "markdown",
   "id": "cef04fde",
   "metadata": {},
   "source": [
    "## Optimization Loop"
   ]
  },
  {
   "cell_type": "code",
   "execution_count": 54,
   "id": "2e9f8f35",
   "metadata": {
    "scrolled": true
   },
   "outputs": [
    {
     "name": "stdout",
     "output_type": "stream",
     "text": [
      "\n",
      "-------------------------------\n",
      "Epoch [1/15], Test Loss: 0.2319, Test Accuracy: 100.00%\n",
      "correct: 1000\n",
      "total: 1000\n",
      "\n",
      "-------------------------------\n",
      "Epoch [2/15], Test Loss: 0.1414, Test Accuracy: 100.00%\n",
      "correct: 1000\n",
      "total: 1000\n",
      "\n",
      "-------------------------------\n",
      "Epoch [3/15], Test Loss: 0.0978, Test Accuracy: 100.00%\n",
      "correct: 1000\n",
      "total: 1000\n",
      "\n",
      "-------------------------------\n",
      "Epoch [4/15], Test Loss: 0.0710, Test Accuracy: 100.00%\n",
      "correct: 1000\n",
      "total: 1000\n",
      "\n",
      "-------------------------------\n",
      "Epoch [5/15], Test Loss: 0.0530, Test Accuracy: 100.00%\n",
      "correct: 1000\n",
      "total: 1000\n",
      "\n",
      "-------------------------------\n",
      "Epoch [6/15], Test Loss: 0.0002, Test Accuracy: 100.00%\n",
      "correct: 1000\n",
      "total: 1000\n",
      "\n",
      "-------------------------------\n",
      "Epoch [7/15], Test Loss: 0.0000, Test Accuracy: 100.00%\n",
      "correct: 1000\n",
      "total: 1000\n",
      "\n",
      "-------------------------------\n",
      "Epoch [8/15], Test Loss: 0.0000, Test Accuracy: 100.00%\n",
      "correct: 1000\n",
      "total: 1000\n",
      "\n",
      "-------------------------------\n",
      "Epoch [9/15], Test Loss: 0.0000, Test Accuracy: 100.00%\n",
      "correct: 1000\n",
      "total: 1000\n",
      "\n",
      "-------------------------------\n",
      "Epoch [10/15], Test Loss: 0.0000, Test Accuracy: 100.00%\n",
      "correct: 1000\n",
      "total: 1000\n",
      "\n",
      "-------------------------------\n",
      "Epoch [11/15], Test Loss: 0.0000, Test Accuracy: 100.00%\n",
      "correct: 1000\n",
      "total: 1000\n",
      "\n",
      "-------------------------------\n",
      "Epoch [12/15], Test Loss: 0.0000, Test Accuracy: 100.00%\n",
      "correct: 1000\n",
      "total: 1000\n",
      "\n",
      "-------------------------------\n",
      "Epoch [13/15], Test Loss: 0.0000, Test Accuracy: 100.00%\n",
      "correct: 1000\n",
      "total: 1000\n",
      "\n",
      "-------------------------------\n",
      "Epoch [14/15], Test Loss: 0.0000, Test Accuracy: 100.00%\n",
      "correct: 1000\n",
      "total: 1000\n",
      "\n",
      "-------------------------------\n",
      "Epoch [15/15], Test Loss: 0.0000, Test Accuracy: 100.00%\n",
      "correct: 1000\n",
      "total: 1000\n",
      "Training and Testing finished.\n"
     ]
    }
   ],
   "source": [
    "n_epochs = 15\n",
    "accuracies = np.zeros(n_epochs)\n",
    "\n",
    "# step = 0\n",
    "for epoch in range(n_epochs):\n",
    "    \n",
    "    print(\"\\n-------------------------------\")\n",
    "    \n",
    "    # train loop\n",
    "    model.train()\n",
    "    for batch, (inputs, outputs) in enumerate(train_loader):\n",
    "        \n",
    "        inputs, outputs = inputs.to(device), outputs.to(device)\n",
    "        \n",
    "        # compute predictions\n",
    "        predictions = model(inputs)\n",
    "        \n",
    "        # calculate loss\n",
    "        loss = loss_fn(predictions, outputs)\n",
    "        \n",
    "        #backpropogation\n",
    "        \n",
    "        loss.backward()\n",
    "        optimizer.step()\n",
    "        optimizer.zero_grad()\n",
    "        \n",
    "        # print progress\n",
    "        # if (batch+1) % 10 == 0:\n",
    "            # print(f'Epoch [{epoch+1}/{n_epochs}], Step [{batch+1}/{len(train_loader)}], Loss: {loss.item():.4f}')\n",
    "        \n",
    "        # writer.add_scalar(\"Training Loss\", loss, global_step=step)\n",
    "        # step += 1\n",
    "        \n",
    "            \n",
    "    # test loop\n",
    "    model.eval()\n",
    "    \n",
    "    test_loss, correct = 0, 0\n",
    "    \n",
    "    with torch.no_grad():\n",
    "        \n",
    "        for inputs, outputs in test_loader:\n",
    "            \n",
    "            inputs, outputs = inputs.to(device), outputs.to(device)\n",
    "            \n",
    "            predictions = model(inputs)\n",
    "            loss = loss_fn(predictions, outputs)\n",
    "            test_loss += loss.item()\n",
    "                \n",
    "            # correct += (torch.round(predictions) == outputs).sum().item()\n",
    "            for i in range(len(predictions)):\n",
    "                rounded_prediction = torch.round(predictions[i])\n",
    "                if rounded_prediction.equal(outputs[i]):\n",
    "                    correct += 1\n",
    "            \n",
    "    average_test_loss = test_loss / len(test_loader)\n",
    "    total = len(test_loader.dataset)\n",
    "    accuracy = correct / total\n",
    "    accuracies[epoch] = accuracy\n",
    "    \n",
    "    print(f'Epoch [{epoch+1}/{n_epochs}], Test Loss: {average_test_loss:.4f}, Test Accuracy: {accuracy:.2%}')\n",
    "    print('correct:', correct)\n",
    "    print('total:', total)\n",
    "    \n",
    "\n",
    "    \n",
    "print('Training and Testing finished.')\n",
    "    "
   ]
  },
  {
   "cell_type": "code",
   "execution_count": 55,
   "id": "5910b69b",
   "metadata": {},
   "outputs": [],
   "source": [
    "checkpoint = {\n",
    "    'model_state_dict': model.state_dict(),\n",
    "    'optimizer_state_dict': optimizer.state_dict(),\n",
    "    'epoch': n_epochs\n",
    "}\n",
    "\n",
    "# Specify the file path where you want to save the model\n",
    "save_path = 'C:\\\\Users\\\\windows\\\\Research\\\\CA_Project\\\\pytorch_stuff\\\\models\\\\CNN_1D_Rule225_Trained_Model.pth'\n",
    "\n",
    "# Save the checkpoint\n",
    "torch.save(checkpoint, save_path)"
   ]
  },
  {
   "cell_type": "code",
   "execution_count": 56,
   "id": "d3d4c60a",
   "metadata": {},
   "outputs": [
    {
     "data": {
      "text/plain": [
       "[<matplotlib.lines.Line2D at 0x12b17bd2760>]"
      ]
     },
     "execution_count": 56,
     "metadata": {},
     "output_type": "execute_result"
    },
    {
     "data": {
      "image/png": "[encoded data removed]",
      "text/plain": [
       "<Figure size 640x480 with 1 Axes>"
      ]
     },
     "metadata": {},
     "output_type": "display_data"
    }
   ],
   "source": [
    "fig, ax = plt.subplots()\n",
    "\n",
    "ax.plot(np.arange(n_epochs), accuracies)"
   ]
  },
  {
   "cell_type": "code",
   "execution_count": 47,
   "id": "09b85613",
   "metadata": {},
   "outputs": [
    {
     "name": "stdout",
     "output_type": "stream",
     "text": [
      "torch.Size([1, 156])\n",
      "tensor([[1., 1., 0., 0., 0., 1., 1., 1., 1., 0., 0., 0., 0., 0., 0., 0., 0., 1.,\n",
      "         1., 1., 1., 0., 1., 1., 1., 0., 1., 1., 0., 1., 0., 1., 0., 1., 1., 1.,\n",
      "         0., 0., 1., 0., 0., 1., 1., 1., 0., 1., 1., 0., 0., 1., 1., 0., 0., 1.,\n",
      "         0., 0., 1., 0., 1., 1., 0., 1., 0., 0., 1., 0., 0., 0., 1., 1., 0., 0.,\n",
      "         1., 0., 0., 1., 1., 1., 1., 1., 0., 0., 1., 0., 0., 0., 0., 1., 1., 0.,\n",
      "         0., 0., 0., 0., 0., 1., 1., 1., 1., 1., 0., 1., 1., 1., 1., 1., 1., 0.,\n",
      "         1., 0., 0., 0., 1., 0., 1., 0., 0., 0., 1., 0., 0., 1., 0., 1., 1., 0.,\n",
      "         0., 1., 0., 1., 1., 1., 0., 1., 1., 0., 1., 0., 0., 1., 0., 1., 1., 1.,\n",
      "         1., 1., 0., 0., 0., 1., 1., 1., 1., 1., 1., 1.]], device='cuda:0',\n",
      "       grad_fn=<RoundBackward0>)\n",
      "tensor([[1., 1., 0., 0., 0., 1., 1., 1., 1., 0., 0., 0., 0., 0., 0., 0., 0., 1.,\n",
      "         1., 1., 1., 0., 1., 1., 1., 0., 1., 1., 0., 1., 0., 1., 0., 1., 1., 1.,\n",
      "         0., 0., 1., 0., 0., 1., 1., 1., 0., 1., 1., 0., 0., 1., 1., 0., 0., 1.,\n",
      "         0., 0., 1., 0., 1., 1., 0., 1., 0., 0., 1., 0., 0., 0., 1., 1., 0., 0.,\n",
      "         1., 0., 0., 1., 1., 1., 1., 1., 0., 0., 1., 0., 0., 0., 0., 1., 1., 0.,\n",
      "         0., 0., 0., 0., 0., 1., 1., 1., 1., 1., 0., 1., 1., 1., 1., 1., 1., 0.,\n",
      "         1., 0., 0., 0., 1., 0., 1., 0., 0., 0., 1., 0., 0., 1., 0., 1., 1., 0.,\n",
      "         0., 1., 0., 1., 1., 1., 0., 1., 1., 0., 1., 0., 0., 1., 0., 1., 1., 1.,\n",
      "         1., 1., 0., 0., 0., 1., 1., 1., 1., 1., 1., 1.]], device='cuda:0')\n"
     ]
    }
   ],
   "source": [
    "count = 0\n",
    "for batch, (inputs, outputs) in enumerate(train_loader):\n",
    "        if count < 1:\n",
    "            inputs, outputs = inputs.to(device), outputs.to(device)\n",
    "            \n",
    "            input0 = inputs[0]\n",
    "            print(input0.size())\n",
    "            \n",
    "            # compute predictions\n",
    "            prediction = model(input0)\n",
    "            rounded_prediction = torch.round(prediction)\n",
    "            print(rounded_prediction)\n",
    "            output0 = outputs[0]\n",
    "            print(output0)\n",
    "        count += 1"
   ]
  },
  {
   "cell_type": "code",
   "execution_count": 48,
   "id": "13bb1477",
   "metadata": {},
   "outputs": [
    {
     "name": "stdout",
     "output_type": "stream",
     "text": [
      "correct\n"
     ]
    }
   ],
   "source": [
    "if rounded_prediction.equal(output0):\n",
    "    print('correct')"
   ]
  },
  {
   "cell_type": "code",
   "execution_count": 49,
   "id": "a5fb977f",
   "metadata": {},
   "outputs": [
    {
     "data": {
      "image/png": "[encoded data removed]",
      "text/plain": [
       "<Figure size 640x480 with 1 Axes>"
      ]
     },
     "metadata": {},
     "output_type": "display_data"
    }
   ],
   "source": [
    "cpl.plot(output0.cpu())"
   ]
  },
  {
   "cell_type": "code",
   "execution_count": 50,
   "id": "a4860846",
   "metadata": {},
   "outputs": [],
   "source": [
    "rounded_prediction = rounded_prediction.detach()\n",
    "rounded_prediction = rounded_prediction.cpu()"
   ]
  },
  {
   "cell_type": "code",
   "execution_count": 51,
   "id": "8f97ef0a",
   "metadata": {},
   "outputs": [
    {
     "data": {
      "image/png": "[encoded data removed]",
      "text/plain": [
       "<Figure size 640x480 with 1 Axes>"
      ]
     },
     "metadata": {},
     "output_type": "display_data"
    }
   ],
   "source": [
    "cpl.plot(rounded_prediction)"
   ]
  },
  {
   "cell_type": "code",
   "execution_count": null,
   "id": "7b904ddc",
   "metadata": {},
   "outputs": [],
   "source": []
  }
 ],
 "metadata": {
  "kernelspec": {
   "display_name": "Python 3 (ipykernel)",
   "language": "python",
   "name": "python3"
  },
  "language_info": {
   "codemirror_mode": {
    "name": "ipython",
    "version": 3
   },
   "file_extension": ".py",
   "mimetype": "text/x-python",
   "name": "python",
   "nbconvert_exporter": "python",
   "pygments_lexer": "ipython3",
   "version": "3.9.16"
  }
 },
 "nbformat": 4,
 "nbformat_minor": 5
}
