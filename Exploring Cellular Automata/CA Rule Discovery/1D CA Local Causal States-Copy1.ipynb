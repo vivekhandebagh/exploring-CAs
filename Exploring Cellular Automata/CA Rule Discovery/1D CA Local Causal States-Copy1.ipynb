{
 "cells": [
  {
   "cell_type": "code",
   "execution_count": 1,
   "id": "de41e863",
   "metadata": {},
   "outputs": [],
   "source": [
    "import os\n",
    "import torch\n",
    "from torch import nn\n",
    "from torch.nn import functional as F\n",
    "from torch.utils.data import DataLoader, TensorDataset\n",
    "from torchvision import datasets, transforms\n",
    "import torch.optim as optim\n",
    "import cellpylib as cpl\n",
    "import numpy as np\n",
    "from torch.utils.tensorboard import SummaryWriter\n",
    "import sys\n",
    "from matplotlib import pyplot as plt\n",
    "import random as rand\n",
    "from lightcone import PastLightCone"
   ]
  },
  {
   "cell_type": "code",
   "execution_count": 2,
   "id": "55de3d42",
   "metadata": {},
   "outputs": [],
   "source": [
    "sys.path.append(\"C:/Users/windows/Research/CA_Project\")\n",
    "from block_entropy import get_block_entropy_feature_matrix, get_block_entropy_feature_vector, block_entropy, mutual_information_feature_vector, get_window_1d"
   ]
  },
  {
   "cell_type": "code",
   "execution_count": null,
   "id": "011746a8",
   "metadata": {},
   "outputs": [],
   "source": []
  },
  {
   "cell_type": "code",
   "execution_count": null,
   "id": "1c8d5f21",
   "metadata": {},
   "outputs": [],
   "source": [
    "device = (\n",
    "    \"cuda\"\n",
    "    if torch.cuda.is_available()\n",
    "    else \"mps\"\n",
    "    if torch.backends.mps.is_available()\n",
    "    else \"cpu\"\n",
    ")\n",
    "print(f\"Using {device} device\")"
   ]
  },
  {
   "cell_type": "markdown",
   "id": "1c7c7094",
   "metadata": {},
   "source": [
    "## Generate Cellular Automata Spacetime to Segment"
   ]
  },
  {
   "cell_type": "code",
   "execution_count": 3,
   "id": "628c9524",
   "metadata": {
    "scrolled": false
   },
   "outputs": [
    {
     "data": {
      "image/png": "[encoded data removed]",
      "text/plain": [
       "<Figure size 640x480 with 1 Axes>"
      ]
     },
     "metadata": {},
     "output_type": "display_data"
    }
   ],
   "source": [
    "ca_size = 120\n",
    "rule_number = 225\n",
    "\n",
    "ic = cpl.init_random(ca_size)\n",
    "ca = cpl.evolve(ic, timesteps=ca_size+3, apply_rule=lambda n, c, t: cpl.nks_rule(n, rule_number), memoize=True)\n",
    "\n",
    "# remove tranients\n",
    "ca = ca[3:]\n",
    "\n",
    "cpl.plot(ca)"
   ]
  },
  {
   "cell_type": "markdown",
   "id": "6eddd23a",
   "metadata": {},
   "source": [
    "## Get past lightcone data"
   ]
  },
  {
   "cell_type": "code",
   "execution_count": 4,
   "id": "d911da4c",
   "metadata": {
    "scrolled": true
   },
   "outputs": [
    {
     "name": "stdout",
     "output_type": "stream",
     "text": [
      "29\n",
      "54\n"
     ]
    }
   ],
   "source": [
    "rand_x, rand_t = rand.randint(0, ca_size), rand.randint(0, ca_size)\n",
    "print(rand_x)\n",
    "print(rand_t)"
   ]
  },
  {
   "cell_type": "code",
   "execution_count": 6,
   "id": "584d6eab",
   "metadata": {},
   "outputs": [
    {
     "data": {
      "text/plain": [
       "tensor([1., 1., 1., 1., 1., 1., 1., 1., 0.])"
      ]
     },
     "execution_count": 6,
     "metadata": {},
     "output_type": "execute_result"
    }
   ],
   "source": [
    "lc_past = PastLightCone(horizon=2)\n",
    "lc_past.get_lightcone_realization(ca, rand_x, rand_t)"
   ]
  },
  {
   "cell_type": "code",
   "execution_count": 7,
   "id": "1db8d1fe",
   "metadata": {},
   "outputs": [
    {
     "data": {
      "text/plain": [
       "tensor([0.0000, 1.4142, 1.0000, 1.4142, 2.8284, 2.2361, 2.0000, 2.2361, 2.8284])"
      ]
     },
     "execution_count": 7,
     "metadata": {},
     "output_type": "execute_result"
    }
   ],
   "source": [
    "lc_past.d_internal"
   ]
  },
  {
   "cell_type": "code",
   "execution_count": null,
   "id": "25ef6856",
   "metadata": {},
   "outputs": [],
   "source": [
    "np.abs(-2)"
   ]
  },
  {
   "cell_type": "code",
   "execution_count": null,
   "id": "694af221",
   "metadata": {},
   "outputs": [],
   "source": [
    "d_internal = torch.zeros((self.horizon + 1) ** 2)\n",
    "        index = 0\n",
    "        for delta in range(self.horizon + 1):\n",
    "            spatial_length = 2 * self.horizon + 1 - 2 * (self.horizon - delta)\n",
    "            for j in range(spatial_length):\n",
    "                sigma = np.abs(j - (spatial_length - 1))\n",
    "                d_internal[index] = np.sqrt(sigma ** 2 + delta ** 2)\n",
    "                index += 1"
   ]
  },
  {
   "cell_type": "markdown",
   "id": "d6eed32b",
   "metadata": {},
   "source": [
    "## Perform K-Means Clustering on Past Lightcones"
   ]
  },
  {
   "cell_type": "markdown",
   "id": "6e1bd837",
   "metadata": {},
   "source": [
    "## Get Future Lightcone Data"
   ]
  },
  {
   "cell_type": "markdown",
   "id": "b2458f9b",
   "metadata": {},
   "source": [
    "## Perform K-Means Clustering on Future Lightcones"
   ]
  },
  {
   "cell_type": "markdown",
   "id": "2e7e7de8",
   "metadata": {},
   "source": [
    "Now we will have a finite set of past light cones and a finite set of future light cones\n",
    "\n",
    "I am confused on how to go about it after this"
   ]
  }
 ],
 "metadata": {
  "kernelspec": {
   "display_name": "Python 3 (ipykernel)",
   "language": "python",
   "name": "python3"
  },
  "language_info": {
   "codemirror_mode": {
    "name": "ipython",
    "version": 3
   },
   "file_extension": ".py",
   "mimetype": "text/x-python",
   "name": "python",
   "nbconvert_exporter": "python",
   "pygments_lexer": "ipython3",
   "version": "3.11.5"
  }
 },
 "nbformat": 4,
 "nbformat_minor": 5
}
